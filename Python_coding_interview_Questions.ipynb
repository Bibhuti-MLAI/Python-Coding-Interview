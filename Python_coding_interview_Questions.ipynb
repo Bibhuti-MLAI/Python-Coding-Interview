{
  "nbformat": 4,
  "nbformat_minor": 0,
  "metadata": {
    "colab": {
      "name": "Python coding interview Questions.ipynb",
      "provenance": [],
      "authorship_tag": "ABX9TyPnycSv9DCxIyZwbOOp9K3B",
      "include_colab_link": true
    },
    "kernelspec": {
      "name": "python3",
      "display_name": "Python 3"
    },
    "language_info": {
      "name": "python"
    }
  },
  "cells": [
    {
      "cell_type": "markdown",
      "metadata": {
        "id": "view-in-github",
        "colab_type": "text"
      },
      "source": [
        "<a href=\"https://colab.research.google.com/github/Bibhuti-MLAI/Python-Coding-Interview/blob/main/Python_coding_interview_Questions.ipynb\" target=\"_parent\"><img src=\"https://colab.research.google.com/assets/colab-badge.svg\" alt=\"Open In Colab\"/></a>"
      ]
    },
    {
      "cell_type": "markdown",
      "metadata": {
        "id": "X7vxUwyYXDXh"
      },
      "source": [
        "# Finding the prime numbers between 100 to 200"
      ]
    },
    {
      "cell_type": "code",
      "metadata": {
        "colab": {
          "base_uri": "https://localhost:8080/"
        },
        "id": "S0_JWakoXB6j",
        "outputId": "fad04845-5b00-405c-c06a-7afe94e503dd"
      },
      "source": [
        "#Code to find prime number\n",
        "for num in range(100, 200):\n",
        "  if all(num%i!=0 for i in range (2,num)):\n",
        "    print(num)"
      ],
      "execution_count": 19,
      "outputs": [
        {
          "output_type": "stream",
          "name": "stdout",
          "text": [
            "101\n",
            "103\n",
            "107\n",
            "109\n",
            "113\n",
            "127\n",
            "131\n",
            "137\n",
            "139\n",
            "149\n",
            "151\n",
            "157\n",
            "163\n",
            "167\n",
            "173\n",
            "179\n",
            "181\n",
            "191\n",
            "193\n",
            "197\n",
            "199\n"
          ]
        }
      ]
    },
    {
      "cell_type": "markdown",
      "metadata": {
        "id": "k4IsqqY8Yofw"
      },
      "source": [
        "# Sorting elements in list"
      ]
    },
    {
      "cell_type": "code",
      "metadata": {
        "colab": {
          "base_uri": "https://localhost:8080/"
        },
        "id": "208DSjRsYn1T",
        "outputId": "cb3fc111-c1f0-40b2-9e5d-6c9a77529199"
      },
      "source": [
        "#Normalmethod\n",
        "list=[1,5,78,6,4,8,9,57,6,45,75,89,65,25,47,56]\n",
        "list.sort(reverse=True)\n",
        "list"
      ],
      "execution_count": 3,
      "outputs": [
        {
          "output_type": "execute_result",
          "data": {
            "text/plain": [
              "[89, 78, 75, 65, 57, 56, 47, 45, 25, 9, 8, 6, 6, 5, 4, 1]"
            ]
          },
          "metadata": {},
          "execution_count": 3
        }
      ]
    },
    {
      "cell_type": "code",
      "metadata": {
        "colab": {
          "base_uri": "https://localhost:8080/"
        },
        "id": "0kVy0snTXDCp",
        "outputId": "32c1af09-33bc-4344-ff70-f09dc9c4ffaa"
      },
      "source": [
        "#Using loop\n",
        "list=[1,5,78,6,4,8,9,57,6,45,75,89,65,25,47,56]\n",
        "list_sort=[]\n",
        "while list:\n",
        "  minimum=list[0]\n",
        "  for x in list:\n",
        "    if x > minimum:\n",
        "      minimum=x\n",
        "  list_sort.append(minimum)\n",
        "  list.remove(minimum)\n",
        "print(list_sort)"
      ],
      "execution_count": 15,
      "outputs": [
        {
          "output_type": "stream",
          "name": "stdout",
          "text": [
            "[89, 78, 75, 65, 57, 56, 47, 45, 25, 9, 8, 6, 6, 5, 4, 1]\n"
          ]
        }
      ]
    },
    {
      "cell_type": "code",
      "metadata": {
        "colab": {
          "base_uri": "https://localhost:8080/"
        },
        "id": "Qv3cJPjYZv-E",
        "outputId": "425e47e5-ea8e-4e98-a2f2-793e04793494"
      },
      "source": [
        "list=[]\n",
        "list.append(1)\n",
        "list"
      ],
      "execution_count": 17,
      "outputs": [
        {
          "output_type": "execute_result",
          "data": {
            "text/plain": [
              "[1]"
            ]
          },
          "metadata": {},
          "execution_count": 17
        }
      ]
    },
    {
      "cell_type": "code",
      "metadata": {
        "colab": {
          "base_uri": "https://localhost:8080/"
        },
        "id": "kIGK3VnEZv7M",
        "outputId": "6f52d5cd-88f4-421b-d6de-43f802c05fce"
      },
      "source": [
        "list.append(5)\n",
        "list"
      ],
      "execution_count": 18,
      "outputs": [
        {
          "output_type": "execute_result",
          "data": {
            "text/plain": [
              "[1, 5]"
            ]
          },
          "metadata": {},
          "execution_count": 18
        }
      ]
    },
    {
      "cell_type": "code",
      "metadata": {
        "id": "ScQqYRJ7Zv4Y"
      },
      "source": [
        ""
      ],
      "execution_count": null,
      "outputs": []
    },
    {
      "cell_type": "code",
      "metadata": {
        "id": "G-hogCvJZv1m"
      },
      "source": [
        ""
      ],
      "execution_count": null,
      "outputs": []
    },
    {
      "cell_type": "code",
      "metadata": {
        "id": "srlEUk14Zvy7"
      },
      "source": [
        ""
      ],
      "execution_count": null,
      "outputs": []
    },
    {
      "cell_type": "code",
      "metadata": {
        "id": "1GlEfGMRZvwS"
      },
      "source": [
        ""
      ],
      "execution_count": null,
      "outputs": []
    },
    {
      "cell_type": "code",
      "metadata": {
        "id": "hfuNcu51Zvtp"
      },
      "source": [
        ""
      ],
      "execution_count": null,
      "outputs": []
    },
    {
      "cell_type": "code",
      "metadata": {
        "id": "0X7x0uBMZvqk"
      },
      "source": [
        ""
      ],
      "execution_count": null,
      "outputs": []
    },
    {
      "cell_type": "code",
      "metadata": {
        "id": "KUnquFL2ZvoE"
      },
      "source": [
        ""
      ],
      "execution_count": null,
      "outputs": []
    },
    {
      "cell_type": "code",
      "metadata": {
        "id": "RT5pe9mjZvlV"
      },
      "source": [
        ""
      ],
      "execution_count": null,
      "outputs": []
    },
    {
      "cell_type": "code",
      "metadata": {
        "id": "NMUi4pkwZvid"
      },
      "source": [
        ""
      ],
      "execution_count": null,
      "outputs": []
    },
    {
      "cell_type": "code",
      "metadata": {
        "id": "IYSp_kt6Zvf8"
      },
      "source": [
        ""
      ],
      "execution_count": null,
      "outputs": []
    }
  ]
}