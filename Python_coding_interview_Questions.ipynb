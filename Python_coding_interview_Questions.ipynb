{
  "nbformat": 4,
  "nbformat_minor": 0,
  "metadata": {
    "colab": {
      "name": "Python coding interview Questions.ipynb",
      "provenance": [],
      "authorship_tag": "ABX9TyPh5upte5RyJ2Nio1GBwQix",
      "include_colab_link": true
    },
    "kernelspec": {
      "name": "python3",
      "display_name": "Python 3"
    },
    "language_info": {
      "name": "python"
    }
  },
  "cells": [
    {
      "cell_type": "markdown",
      "metadata": {
        "id": "view-in-github",
        "colab_type": "text"
      },
      "source": [
        "<a href=\"https://colab.research.google.com/github/Bibhuti-MLAI/Python-Coding-Interview/blob/main/Python_coding_interview_Questions.ipynb\" target=\"_parent\"><img src=\"https://colab.research.google.com/assets/colab-badge.svg\" alt=\"Open In Colab\"/></a>"
      ]
    },
    {
      "cell_type": "markdown",
      "metadata": {
        "id": "X7vxUwyYXDXh"
      },
      "source": [
        "# Finding the prime numbers between 100 to 200"
      ]
    },
    {
      "cell_type": "code",
      "metadata": {
        "colab": {
          "base_uri": "https://localhost:8080/"
        },
        "id": "S0_JWakoXB6j",
        "outputId": "544709f7-0cd8-417d-fd9b-2723c2e78e37"
      },
      "source": [
        "#Code to find prime number\n",
        "for num in range(100, 200):\n",
        "  if all(num%i!=0 for i in range (2,num)):\n",
        "    print(num)"
      ],
      "execution_count": 27,
      "outputs": [
        {
          "output_type": "stream",
          "name": "stdout",
          "text": [
            "101\n",
            "103\n",
            "107\n",
            "109\n",
            "113\n",
            "127\n",
            "131\n",
            "137\n",
            "139\n",
            "149\n",
            "151\n",
            "157\n",
            "163\n",
            "167\n",
            "173\n",
            "179\n",
            "181\n",
            "191\n",
            "193\n",
            "197\n",
            "199\n"
          ]
        }
      ]
    },
    {
      "cell_type": "markdown",
      "metadata": {
        "id": "k4IsqqY8Yofw"
      },
      "source": [
        "# Sorting elements in list"
      ]
    },
    {
      "cell_type": "code",
      "metadata": {
        "colab": {
          "base_uri": "https://localhost:8080/"
        },
        "id": "208DSjRsYn1T",
        "outputId": "042985c9-123b-4f22-fd26-a6be7af57d11"
      },
      "source": [
        "#Normalmethod\n",
        "list=[1,5,78,6,4,8,9,57,6,45,75,89,65,25,47,56]\n",
        "list.sort(reverse=True)\n",
        "list"
      ],
      "execution_count": 28,
      "outputs": [
        {
          "output_type": "execute_result",
          "data": {
            "text/plain": [
              "[89, 78, 75, 65, 57, 56, 47, 45, 25, 9, 8, 6, 6, 5, 4, 1]"
            ]
          },
          "metadata": {},
          "execution_count": 28
        }
      ]
    },
    {
      "cell_type": "code",
      "metadata": {
        "colab": {
          "base_uri": "https://localhost:8080/"
        },
        "id": "0kVy0snTXDCp",
        "outputId": "cc1c2fef-fa42-4fee-fe7e-eb7720dd4bda"
      },
      "source": [
        "#Using loop\n",
        "list=[1,5,78,6,4,8,9,57,6,45,75,89,65,25,47,56]\n",
        "list_sort=[]\n",
        "while list:\n",
        "  minimum=list[0]\n",
        "  for x in list:\n",
        "    if x > minimum:\n",
        "      minimum=x\n",
        "  list_sort.append(minimum)\n",
        "  list.remove(minimum)\n",
        "print(list_sort)"
      ],
      "execution_count": 29,
      "outputs": [
        {
          "output_type": "stream",
          "name": "stdout",
          "text": [
            "[89, 78, 75, 65, 57, 56, 47, 45, 25, 9, 8, 6, 6, 5, 4, 1]\n"
          ]
        }
      ]
    },
    {
      "cell_type": "markdown",
      "metadata": {
        "id": "AYPL_U9TdrSc"
      },
      "source": [
        "# Finding the second largest element from a list"
      ]
    },
    {
      "cell_type": "code",
      "metadata": {
        "colab": {
          "base_uri": "https://localhost:8080/"
        },
        "id": "Qv3cJPjYZv-E",
        "outputId": "4460c603-d1bf-4f33-c514-ee1c12c84f81"
      },
      "source": [
        "list=[1,5,78,6,4,8,9,57,6,45,75,89,65,25,47,56]\n",
        "list.sort()\n",
        "list = set(list)\n",
        "li=list.remove(max(list))\n",
        "print(max(list))"
      ],
      "execution_count": 30,
      "outputs": [
        {
          "output_type": "stream",
          "name": "stdout",
          "text": [
            "78\n"
          ]
        }
      ]
    },
    {
      "cell_type": "markdown",
      "metadata": {
        "id": "jOzOLvGndONQ"
      },
      "source": [
        "#Problem related to circle"
      ]
    },
    {
      "cell_type": "code",
      "metadata": {
        "id": "IH9PURqwtUdF"
      },
      "source": [
        "class Circle:\n",
        "\n",
        "  def __init__(self, radius=1):\n",
        "    self.radius = radius\n",
        "    self.area = 3.14 * radius * radius\n",
        "\n",
        "  def setRadius(self, new_radius):\n",
        "    self.radius = new_radius\n",
        "    self.area = 3.14 * new_radius * new_radius\n",
        "\n",
        "  def getCircumference(self):\n",
        "    return 2 * 3.14 * self.radius"
      ],
      "execution_count": 31,
      "outputs": []
    },
    {
      "cell_type": "code",
      "metadata": {
        "id": "xpiQhNfDtUdH"
      },
      "source": [
        "c = Circle()"
      ],
      "execution_count": 32,
      "outputs": []
    },
    {
      "cell_type": "code",
      "metadata": {
        "colab": {
          "base_uri": "https://localhost:8080/"
        },
        "id": "wwhkXDJqjAHg",
        "outputId": "32a0081b-c5d7-489e-cb7f-8d0c4fb36000"
      },
      "source": [
        "c.area"
      ],
      "execution_count": 33,
      "outputs": [
        {
          "output_type": "execute_result",
          "data": {
            "text/plain": [
              "3.14"
            ]
          },
          "metadata": {},
          "execution_count": 33
        }
      ]
    },
    {
      "cell_type": "code",
      "metadata": {
        "colab": {
          "base_uri": "https://localhost:8080/"
        },
        "id": "7d5jk613jLmy",
        "outputId": "85c6854f-c12d-4b85-9b42-df0a27ab9cc9"
      },
      "source": [
        "c.getCircumference()"
      ],
      "execution_count": 34,
      "outputs": [
        {
          "output_type": "execute_result",
          "data": {
            "text/plain": [
              "6.28"
            ]
          },
          "metadata": {},
          "execution_count": 34
        }
      ]
    },
    {
      "cell_type": "code",
      "metadata": {
        "colab": {
          "base_uri": "https://localhost:8080/"
        },
        "id": "LtcO9Ne3iUo3",
        "outputId": "76002f0f-e2ec-46f7-ce04-f0751c157dc8"
      },
      "source": [
        "print('Radius is: ', c.radius)\n",
        "print('Area is: ', c.area)\n",
        "print('Circumference is: ', c.getCircumference())"
      ],
      "execution_count": 35,
      "outputs": [
        {
          "output_type": "stream",
          "name": "stdout",
          "text": [
            "Radius is:  1\n",
            "Area is:  3.14\n",
            "Circumference is:  6.28\n"
          ]
        }
      ]
    },
    {
      "cell_type": "markdown",
      "metadata": {
        "id": "zOyW9yPHtUdJ"
      },
      "source": [
        "Now let's change the radius and see how that affects our Circle object:"
      ]
    },
    {
      "cell_type": "code",
      "metadata": {
        "id": "Sp6WUJc9tUdJ",
        "colab": {
          "base_uri": "https://localhost:8080/"
        },
        "outputId": "13460fd6-87c5-4a63-ccab-068df65c1177"
      },
      "source": [
        "c.setRadius(4)\n",
        "\n",
        "print('Radius is: ', c.radius)\n",
        "print('Area is: ', c.area)\n",
        "print('Circumference is: ', c.getCircumference())"
      ],
      "execution_count": 36,
      "outputs": [
        {
          "output_type": "stream",
          "name": "stdout",
          "text": [
            "Radius is:  4\n",
            "Area is:  50.24\n",
            "Circumference is:  25.12\n"
          ]
        }
      ]
    },
    {
      "cell_type": "markdown",
      "metadata": {
        "id": "_0r0aq3ntUdL"
      },
      "source": [
        "Great! Notice how we used self. notation to reference attributes of the class within the method calls. Review how the code above works and try creating your own method."
      ]
    },
    {
      "cell_type": "markdown",
      "metadata": {
        "id": "VYD7BgLZtUdM"
      },
      "source": [
        "## Polymorphism\n",
        "\n",
        "We've learned that while functions can take in different arguments, methods belong to the objects they act on. In Python, *polymorphism* refers to the way in which different object classes can share the same method name, and those methods can be called from the same place even though a variety of different objects might be passed in. The best way to explain this is by example:"
      ]
    },
    {
      "cell_type": "code",
      "metadata": {
        "id": "C-DbH8vVtUdM"
      },
      "source": [
        "class HouseStark:\n",
        "    def __init__(self, sigil):\n",
        "        self.sigil = sigil\n",
        "\n",
        "    def motto(self):\n",
        "        return \"House Stark with sigil \" + self.sigil + \" has the motto 'Winter is coming'\""
      ],
      "execution_count": 37,
      "outputs": []
    },
    {
      "cell_type": "code",
      "metadata": {
        "id": "Knb58dwgF5wZ"
      },
      "source": [
        "class HouseLannister:\n",
        "    def __init__(self, sigil):\n",
        "        self.sigil = sigil\n",
        "\n",
        "    def motto(self):\n",
        "        return \"House Lannister with sigil \" + self.sigil + \" has the motto 'Hear me roar'\""
      ],
      "execution_count": 38,
      "outputs": []
    },
    {
      "cell_type": "code",
      "metadata": {
        "id": "ZHMg38V2tUdO"
      },
      "source": [
        "arya = HouseStark('direwolf')\n",
        "tyrion = HouseLannister('golden lion')"
      ],
      "execution_count": 39,
      "outputs": []
    },
    {
      "cell_type": "code",
      "metadata": {
        "id": "haoS9YqetUdR",
        "colab": {
          "base_uri": "https://localhost:8080/"
        },
        "outputId": "5d72dcab-bb04-4348-8f18-5088d1b00acc"
      },
      "source": [
        "print(arya.motto())"
      ],
      "execution_count": 40,
      "outputs": [
        {
          "output_type": "stream",
          "name": "stdout",
          "text": [
            "House Stark with sigil direwolf has the motto 'Winter is coming'\n"
          ]
        }
      ]
    },
    {
      "cell_type": "code",
      "metadata": {
        "id": "HsZugVGgFChX",
        "colab": {
          "base_uri": "https://localhost:8080/"
        },
        "outputId": "f4912afa-6884-47c4-c224-3035ecd19d38"
      },
      "source": [
        "print(tyrion.motto())"
      ],
      "execution_count": 41,
      "outputs": [
        {
          "output_type": "stream",
          "name": "stdout",
          "text": [
            "House Lannister with sigil golden lion has the motto 'Hear me roar'\n"
          ]
        }
      ]
    },
    {
      "cell_type": "markdown",
      "metadata": {
        "id": "bWpYCHnXtUdT"
      },
      "source": [
        "Here we have a HouseStark class and a HouseLannister class, and each has a `.motto()` method. When called, each object's `.motto()` method returns a result unique to the object.\n",
        "\n",
        "There a few different ways to demonstrate polymorphism. First, with a for loop:"
      ]
    },
    {
      "cell_type": "code",
      "metadata": {
        "id": "sB9Dm2QetUdU",
        "colab": {
          "base_uri": "https://localhost:8080/"
        },
        "outputId": "3dbef2db-38bd-404b-c2fc-f10a27c61fae"
      },
      "source": [
        "for warrior in [arya, tyrion]:\n",
        "    print(warrior.motto())"
      ],
      "execution_count": 42,
      "outputs": [
        {
          "output_type": "stream",
          "name": "stdout",
          "text": [
            "House Stark with sigil direwolf has the motto 'Winter is coming'\n",
            "House Lannister with sigil golden lion has the motto 'Hear me roar'\n"
          ]
        }
      ]
    },
    {
      "cell_type": "markdown",
      "metadata": {
        "id": "ejVaA9YctUdV"
      },
      "source": [
        "Another is with functions:"
      ]
    },
    {
      "cell_type": "code",
      "metadata": {
        "id": "w53MLAWJtUdW",
        "colab": {
          "base_uri": "https://localhost:8080/"
        },
        "outputId": "85d0483f-6348-484d-bdfa-13401780cda9"
      },
      "source": [
        "def get_motto(warrior):\n",
        "    print(warrior.motto())\n",
        "\n",
        "get_motto(arya)\n",
        "get_motto(tyrion)"
      ],
      "execution_count": 43,
      "outputs": [
        {
          "output_type": "stream",
          "name": "stdout",
          "text": [
            "House Stark with sigil direwolf has the motto 'Winter is coming'\n",
            "House Lannister with sigil golden lion has the motto 'Hear me roar'\n"
          ]
        }
      ]
    },
    {
      "cell_type": "markdown",
      "metadata": {
        "id": "sewYYDL7tUdY"
      },
      "source": [
        "In both cases we were able to pass in different object types, and we obtained object-specific results from the same mechanism."
      ]
    },
    {
      "cell_type": "markdown",
      "metadata": {
        "id": "kTa8caFuSezF"
      },
      "source": [
        "## try and except\n",
        "\n",
        "The basic terminology and syntax used to handle errors in Python are the <code>try</code> and <code>except</code> statements. The code which can cause an exception to occur is put in the <code>try</code> block and the handling of the exception is then implemented in the <code>except</code> block of code. The syntax follows:\n",
        "\n",
        "    try:\n",
        "       You do your operations here...\n",
        "       ...\n",
        "    except:\n",
        "       If there is an exception, then execute this block.\n",
        "    else:\n",
        "       If there is no exception then execute this block. \n",
        "\n",
        "To get a better understanding of this let's check out an example:"
      ]
    },
    {
      "cell_type": "code",
      "metadata": {
        "id": "Ckb2jAAeZlkv",
        "colab": {
          "base_uri": "https://localhost:8080/"
        },
        "outputId": "89090046-707b-411e-f656-2009987fb866"
      },
      "source": [
        "try:\n",
        "    print(\"Good to go!\")\n",
        "    print('a', fwdfdwafwf)\n",
        "    print('b')\n",
        "except:\n",
        "    # This will check for any exception and then execute this print statement\n",
        "    print(\"Oops!\")\n",
        "    print('c')\n",
        "    print('d')\n",
        "else:\n",
        "    print(\"No errors encountered!\")\n",
        "    print('e')\n",
        "    print('f')"
      ],
      "execution_count": 44,
      "outputs": [
        {
          "output_type": "stream",
          "name": "stdout",
          "text": [
            "Good to go!\n",
            "Oops!\n",
            "c\n",
            "d\n"
          ]
        }
      ]
    },
    {
      "cell_type": "markdown",
      "metadata": {
        "id": "1iWZyynISj7-"
      },
      "source": [
        "Great! Now we don't actually need to memorize that list of exception types! Now what if we kept wanting to run code after the exception occurred? This is where <code>finally</code> comes in.\n",
        "## finally\n",
        "The <code>finally:</code> block of code will always be run regardless if there was an exception in the <code>try</code> code block. The syntax is:\n",
        "\n",
        "    try:\n",
        "       Code block here\n",
        "       ...\n",
        "       Due to any exception, this code may be skipped!\n",
        "    finally:\n",
        "       This code block would always be executed.\n",
        "\n",
        "For example:"
      ]
    },
    {
      "cell_type": "code",
      "metadata": {
        "id": "arY-rn-CGvKS",
        "colab": {
          "base_uri": "https://localhost:8080/"
        },
        "outputId": "29dd5ea6-048d-417b-ab54-44869882ac58"
      },
      "source": [
        "try:\n",
        "  print(\"Execute try statements\")\n",
        "finally:\n",
        "  print(\"Always execute finally code blocks\")"
      ],
      "execution_count": 45,
      "outputs": [
        {
          "output_type": "stream",
          "name": "stdout",
          "text": [
            "Execute try statements\n",
            "Always execute finally code blocks\n"
          ]
        }
      ]
    },
    {
      "cell_type": "markdown",
      "metadata": {
        "id": "n-4eDtEnSvI9"
      },
      "source": [
        "We can use this in conjunction with <code>except</code>. Let's see a new example that will take into account a user providing the wrong input:"
      ]
    },
    {
      "cell_type": "code",
      "metadata": {
        "id": "ldMDSNkeSnl1"
      },
      "source": [
        "a = 1\n",
        "b = 0.2"
      ],
      "execution_count": 46,
      "outputs": []
    },
    {
      "cell_type": "code",
      "metadata": {
        "id": "hn1ZlKSDSwxQ",
        "colab": {
          "base_uri": "https://localhost:8080/"
        },
        "outputId": "b08304c0-4919-4a97-ab2a-9a0ec4c39f2e"
      },
      "source": [
        "try:\n",
        "    print(afdwfwf, type(aefwffewf))\n",
        "except:\n",
        "    print(b, type(b))\n",
        "finally:\n",
        "    print('Type printed')"
      ],
      "execution_count": 47,
      "outputs": [
        {
          "output_type": "stream",
          "name": "stdout",
          "text": [
            "0.2 <class 'float'>\n",
            "Type printed\n"
          ]
        }
      ]
    },
    {
      "cell_type": "code",
      "metadata": {
        "id": "OrkKRRLv_vbf",
        "colab": {
          "base_uri": "https://localhost:8080/"
        },
        "outputId": "f7dc713c-4641-4d12-fb29-79a22e4aebbb"
      },
      "source": [
        "try:\n",
        "    a = 1\n",
        "    print(adefewdwd)\n",
        "    try:\n",
        "      print(type(afggdgdsgg))\n",
        "    except:\n",
        "      print('Error occured')\n",
        "except Exception as ex:\n",
        "    print('The error is : ', ex)\n",
        "    print(b, type(b))"
      ],
      "execution_count": 48,
      "outputs": [
        {
          "output_type": "stream",
          "name": "stdout",
          "text": [
            "The error is :  name 'adefewdwd' is not defined\n",
            "0.2 <class 'float'>\n"
          ]
        }
      ]
    },
    {
      "cell_type": "markdown",
      "metadata": {
        "id": "pZrycmS2S_1t"
      },
      "source": [
        "# Real World Use Case\n",
        "\n",
        "### Uber's simplified pricing model\n",
        "\n",
        "When you request an Uber, you enter your pick-up location and the destination. Based on the distance, peak hours, willingness to pay and many other factors, Uber uses a machine learning algorithm to compute what prices will be shown to you.\n",
        "\n",
        "Let's consider a simplistic version of the Uber Pricing Model where you compute the price based on the distance between the pick-up and the drop location and the time of the booking.\n",
        "\n",
        "User Inputs:\n",
        "\n",
        "* Pick-up location (pick_up_latitude, pick_up_longitude)\n",
        "* Drop location (drop_latitude, drop_longitude)\n",
        "* Time of booking\n",
        "\n",
        "Output:\n",
        "\n",
        "* Final Price"
      ]
    },
    {
      "cell_type": "markdown",
      "metadata": {
        "id": "N6hCfBw3TNhJ"
      },
      "source": [
        " ### Development Code"
      ]
    },
    {
      "cell_type": "code",
      "metadata": {
        "id": "vdwRZpbJTC2b"
      },
      "source": [
        "# Calculate the distance between the pick-up location and the drop location\n",
        "\n",
        "import geopy.distance\n",
        "        \n",
        "def get_distance(location_1, location_2):\n",
        "\n",
        "    distance = geopy.distance.distance(location_1, location_2).km\n",
        "\n",
        "    return distance"
      ],
      "execution_count": 49,
      "outputs": []
    },
    {
      "cell_type": "code",
      "metadata": {
        "id": "zC0vGEflTK8c"
      },
      "source": [
        "def get_price_per_km(hour):\n",
        "    \n",
        "    if (hour > 8) & (hour < 11):\n",
        "        price_per_km = 20\n",
        "    elif (hour > 18) & (hour < 21):\n",
        "        price_per_km = 15\n",
        "    else:\n",
        "        price_per_km = 10\n",
        "        \n",
        "    return price_per_km"
      ],
      "execution_count": 50,
      "outputs": []
    },
    {
      "cell_type": "code",
      "metadata": {
        "id": "sJhJg5PhTPWh"
      },
      "source": [
        "def get_final_price(pick_up_location, drop_location, booking_hour):\n",
        "    \n",
        "    total_distance = get_distance(pick_up_location, drop_location)\n",
        "    actual_price_per_km = get_price_per_km(booking_hour)\n",
        "    \n",
        "    final_price = round(total_distance * actual_price_per_km, 2)\n",
        "    \n",
        "    return final_price"
      ],
      "execution_count": 51,
      "outputs": []
    },
    {
      "cell_type": "code",
      "metadata": {
        "id": "cYICiaPGTQ5c"
      },
      "source": [
        "# Inputs\n",
        "\n",
        "pick_up_location = (24, 70)\n",
        "drop_location = (24.1, 70.1)\n",
        "booking_time = 19"
      ],
      "execution_count": 52,
      "outputs": []
    },
    {
      "cell_type": "code",
      "metadata": {
        "id": "J-6Y6diXTSU7",
        "colab": {
          "base_uri": "https://localhost:8080/"
        },
        "outputId": "35d8007c-5060-456f-b8a8-e1429fbf0838"
      },
      "source": [
        "# Output\n",
        "\n",
        "get_final_price(pick_up_location, drop_location, booking_time)"
      ],
      "execution_count": 53,
      "outputs": [
        {
          "output_type": "execute_result",
          "data": {
            "text/plain": [
              "225.56"
            ]
          },
          "metadata": {},
          "execution_count": 53
        }
      ]
    },
    {
      "cell_type": "markdown",
      "metadata": {
        "id": "q_nSK3-FTaqD"
      },
      "source": [
        "### Production Grade Code"
      ]
    },
    {
      "cell_type": "code",
      "metadata": {
        "id": "QHPqo8fNTUGG"
      },
      "source": [
        "# Calculate the distance between the pick-up location and the drop location\n",
        "\n",
        "import geopy.distance\n",
        "import math\n",
        "\n",
        "class Maps:\n",
        "    \n",
        "    def __init__(self):\n",
        "        pass\n",
        "        \n",
        "    def get_distance(self, location_1, location_2):\n",
        "\n",
        "        try:\n",
        "            distance = geopy.distance.distance(location_1, location_2).km\n",
        "        except:\n",
        "            distance = math.sqrt((location_1[0]-location_2[0])^2 + (location_1[1]-location_2[1])^2)\n",
        "            \n",
        "        return distance"
      ],
      "execution_count": 54,
      "outputs": []
    },
    {
      "cell_type": "code",
      "metadata": {
        "id": "4n1-Cf9GTX4h"
      },
      "source": [
        "class SurgePricing:\n",
        "    \n",
        "    def __init__(self):\n",
        "        pass\n",
        "\n",
        "    def get_price_per_km(self, hour):\n",
        "\n",
        "        try:\n",
        "\n",
        "            if (hour > 8) & (hour < 11):\n",
        "                price_per_km = 20\n",
        "            elif (hour > 18) & (hour < 21):\n",
        "                price_per_km = 15\n",
        "            else:\n",
        "                price_per_km = 10\n",
        "\n",
        "        except:\n",
        "\n",
        "            price_per_km = 10\n",
        "\n",
        "        return price_per_km"
      ],
      "execution_count": 55,
      "outputs": []
    },
    {
      "cell_type": "code",
      "metadata": {
        "id": "4lSkQz2ITer_"
      },
      "source": [
        "def get_final_price(pick_up_location, drop_location, booking_hour):\n",
        "    \n",
        "    maps = Maps()\n",
        "    surge = SurgePricing()\n",
        "    \n",
        "    total_distance = maps.get_distance(pick_up_location, drop_location)\n",
        "    actual_price_per_km = surge.get_price_per_km(booking_hour)\n",
        "    \n",
        "    final_price = round(total_distance * actual_price_per_km, 2)\n",
        "    \n",
        "    return final_price"
      ],
      "execution_count": 56,
      "outputs": []
    },
    {
      "cell_type": "code",
      "metadata": {
        "id": "aQ0YYXCATgJS",
        "colab": {
          "base_uri": "https://localhost:8080/"
        },
        "outputId": "8429acc8-8bf5-4c17-f144-721c33e54414"
      },
      "source": [
        "# Output\n",
        "\n",
        "get_final_price(pick_up_location, drop_location, booking_time)"
      ],
      "execution_count": 57,
      "outputs": [
        {
          "output_type": "execute_result",
          "data": {
            "text/plain": [
              "225.56"
            ]
          },
          "metadata": {},
          "execution_count": 57
        }
      ]
    },
    {
      "cell_type": "code",
      "metadata": {
        "id": "ScQqYRJ7Zv4Y"
      },
      "source": [
        ""
      ],
      "execution_count": 57,
      "outputs": []
    },
    {
      "cell_type": "code",
      "metadata": {
        "id": "G-hogCvJZv1m"
      },
      "source": [
        ""
      ],
      "execution_count": 57,
      "outputs": []
    },
    {
      "cell_type": "code",
      "metadata": {
        "id": "srlEUk14Zvy7"
      },
      "source": [
        ""
      ],
      "execution_count": 57,
      "outputs": []
    },
    {
      "cell_type": "code",
      "metadata": {
        "id": "1GlEfGMRZvwS"
      },
      "source": [
        ""
      ],
      "execution_count": 57,
      "outputs": []
    },
    {
      "cell_type": "code",
      "metadata": {
        "id": "hfuNcu51Zvtp"
      },
      "source": [
        ""
      ],
      "execution_count": 57,
      "outputs": []
    },
    {
      "cell_type": "code",
      "metadata": {
        "id": "0X7x0uBMZvqk"
      },
      "source": [
        ""
      ],
      "execution_count": 57,
      "outputs": []
    },
    {
      "cell_type": "code",
      "metadata": {
        "id": "KUnquFL2ZvoE"
      },
      "source": [
        ""
      ],
      "execution_count": 57,
      "outputs": []
    },
    {
      "cell_type": "code",
      "metadata": {
        "id": "RT5pe9mjZvlV"
      },
      "source": [
        ""
      ],
      "execution_count": 57,
      "outputs": []
    },
    {
      "cell_type": "code",
      "metadata": {
        "id": "NMUi4pkwZvid"
      },
      "source": [
        ""
      ],
      "execution_count": 57,
      "outputs": []
    },
    {
      "cell_type": "code",
      "metadata": {
        "id": "IYSp_kt6Zvf8"
      },
      "source": [
        ""
      ],
      "execution_count": 57,
      "outputs": []
    }
  ]
}