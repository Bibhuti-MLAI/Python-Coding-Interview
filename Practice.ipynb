{
  "nbformat": 4,
  "nbformat_minor": 0,
  "metadata": {
    "colab": {
      "provenance": [],
      "authorship_tag": "ABX9TyOVsX42GDkbjOITfj+G8Hqn",
      "include_colab_link": true
    },
    "kernelspec": {
      "name": "python3",
      "display_name": "Python 3"
    },
    "language_info": {
      "name": "python"
    }
  },
  "cells": [
    {
      "cell_type": "markdown",
      "metadata": {
        "id": "view-in-github",
        "colab_type": "text"
      },
      "source": [
        "<a href=\"https://colab.research.google.com/github/Bibhuti-MLAI/Python-Coding-Interview/blob/main/Practice.ipynb\" target=\"_parent\"><img src=\"https://colab.research.google.com/assets/colab-badge.svg\" alt=\"Open In Colab\"/></a>"
      ]
    },
    {
      "cell_type": "code",
      "execution_count": 1,
      "metadata": {
        "colab": {
          "base_uri": "https://localhost:8080/"
        },
        "id": "-1G-uDAucgfX",
        "outputId": "218c76f3-d80f-414b-d872-38fe6f11fc98"
      },
      "outputs": [
        {
          "output_type": "stream",
          "name": "stdout",
          "text": [
            "first string: lkjhgfds\n",
            "second string: lkjhgfd\n",
            "{'d', 'h', 'k', 'g', 'f', 'l', 'j'}\n"
          ]
        }
      ],
      "source": [
        "#finding the common letters in string\n",
        "def common_letters():\n",
        "  str1= input(\"first string: \")\n",
        "  str2= input(\"second string: \")\n",
        "  s1 = set(str1)\n",
        "  s2 = set(str2)\n",
        "  lst = s1&s2\n",
        "  print(lst)\n",
        "\n",
        "\n",
        "common_letters()\n"
      ]
    },
    {
      "cell_type": "code",
      "source": [
        "#count the frequency of words in a string\n",
        "def count_words():\n",
        "  str = input(\"Input the string : \")\n",
        "  li = str.split()\n",
        "  d={}\n",
        "\n",
        "  for i in li:\n",
        "      if i not in d.keys():\n",
        "        d[i]=0\n",
        "      d[i]=d[i]+1\n",
        "  print(d)\n",
        "count_words()"
      ],
      "metadata": {
        "colab": {
          "base_uri": "https://localhost:8080/"
        },
        "id": "LHIDQ2umVSVG",
        "outputId": "4d90e76e-3801-498b-e9d4-b0578beb87a9"
      },
      "execution_count": null,
      "outputs": [
        {
          "output_type": "stream",
          "name": "stdout",
          "text": [
            "Input the string : Ravi had been saying that he had been there\n",
            "{'Ravi': 1, 'had': 2, 'been': 2, 'saying': 1, 'that': 1, 'he': 1, 'there': 1}\n"
          ]
        }
      ]
    },
    {
      "cell_type": "code",
      "source": [
        "#list to disctionary\n",
        "def list_to_dict():\n",
        "  key = [1,2,3]\n",
        "  values = ['One','Two','Three']\n",
        "  d = dict(zip(key,values))\n",
        "  print(d)\n",
        "\n",
        "\n",
        "list_to_dict()"
      ],
      "metadata": {
        "colab": {
          "base_uri": "https://localhost:8080/"
        },
        "id": "SYn_tMcmdwzR",
        "outputId": "5e2d311a-dd04-4af4-8ec3-f672e7ea1346"
      },
      "execution_count": null,
      "outputs": [
        {
          "output_type": "stream",
          "name": "stdout",
          "text": [
            "{1: 'One', 2: 'Two', 3: 'Three'}\n"
          ]
        }
      ]
    },
    {
      "cell_type": "code",
      "source": [
        "#Finding missing number\n",
        "def finding_missing_number(a):\n",
        "  n=a[-1]\n",
        "  sum1=0\n",
        "  total=n*(n+1)//2\n",
        "  sum1=sum(a)\n",
        "  print(total-sum1)\n",
        "a=[1,2,3,4,6,7,8,9]\n",
        "finding_missing_number(a)"
      ],
      "metadata": {
        "colab": {
          "base_uri": "https://localhost:8080/"
        },
        "id": "KHcDbKhLZ2i3",
        "outputId": "6679e82e-2779-4941-ec65-ad67781aea8b"
      },
      "execution_count": null,
      "outputs": [
        {
          "output_type": "stream",
          "name": "stdout",
          "text": [
            "5\n"
          ]
        }
      ]
    },
    {
      "cell_type": "code",
      "source": [
        "import pandas as pd"
      ],
      "metadata": {
        "id": "2EuFFj6cwRiw"
      },
      "execution_count": 1,
      "outputs": []
    },
    {
      "cell_type": "code",
      "source": [],
      "metadata": {
        "id": "XGmI8lgEwRfU"
      },
      "execution_count": null,
      "outputs": []
    },
    {
      "cell_type": "code",
      "source": [],
      "metadata": {
        "id": "MIZBROpgwRdG"
      },
      "execution_count": null,
      "outputs": []
    },
    {
      "cell_type": "code",
      "source": [],
      "metadata": {
        "id": "NrP4ahD7wRaM"
      },
      "execution_count": null,
      "outputs": []
    },
    {
      "cell_type": "code",
      "source": [],
      "metadata": {
        "id": "ocoV0h9dwRX6"
      },
      "execution_count": null,
      "outputs": []
    },
    {
      "cell_type": "code",
      "source": [],
      "metadata": {
        "id": "r0QgBxntwRUp"
      },
      "execution_count": null,
      "outputs": []
    },
    {
      "cell_type": "code",
      "source": [],
      "metadata": {
        "id": "7yOBMs6dwRRr"
      },
      "execution_count": null,
      "outputs": []
    },
    {
      "cell_type": "code",
      "source": [],
      "metadata": {
        "id": "Vu9fQcQ7wRO5"
      },
      "execution_count": null,
      "outputs": []
    },
    {
      "cell_type": "code",
      "source": [],
      "metadata": {
        "id": "aFcIADY2wRMb"
      },
      "execution_count": null,
      "outputs": []
    }
  ]
}