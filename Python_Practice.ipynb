{
  "nbformat": 4,
  "nbformat_minor": 0,
  "metadata": {
    "colab": {
      "provenance": [],
      "authorship_tag": "ABX9TyPu/qyBUaohLeM4VhqznGBd",
      "include_colab_link": true
    },
    "kernelspec": {
      "name": "python3",
      "display_name": "Python 3"
    },
    "language_info": {
      "name": "python"
    }
  },
  "cells": [
    {
      "cell_type": "markdown",
      "metadata": {
        "id": "view-in-github",
        "colab_type": "text"
      },
      "source": [
        "<a href=\"https://colab.research.google.com/github/Bibhuti-MLAI/Python-Coding-Interview/blob/main/Python_Practice.ipynb\" target=\"_parent\"><img src=\"https://colab.research.google.com/assets/colab-badge.svg\" alt=\"Open In Colab\"/></a>"
      ]
    },
    {
      "cell_type": "code",
      "execution_count": 36,
      "metadata": {
        "colab": {
          "base_uri": "https://localhost:8080/"
        },
        "id": "AGpi86Fpm3kK",
        "outputId": "3bec4705-24cb-4dee-988a-bfa1ddb63467"
      },
      "outputs": [
        {
          "output_type": "stream",
          "name": "stdout",
          "text": [
            "30\n"
          ]
        }
      ],
      "source": [
        "a=10\n",
        "b=20\n",
        "print(a+b)"
      ]
    },
    {
      "cell_type": "code",
      "source": [
        "first_name='Bibhuti'\n",
        "last_name='Sahu'"
      ],
      "metadata": {
        "id": "1hdpn-dwoHDu"
      },
      "execution_count": 37,
      "outputs": []
    },
    {
      "cell_type": "code",
      "source": [
        "print(\"My First name if {} and my Last is {}\".format(first_name,last_name))"
      ],
      "metadata": {
        "colab": {
          "base_uri": "https://localhost:8080/"
        },
        "id": "aXt9tCgAoHGe",
        "outputId": "2431dece-615f-46a5-8b47-8b04d7374180"
      },
      "execution_count": 38,
      "outputs": [
        {
          "output_type": "stream",
          "name": "stdout",
          "text": [
            "My First name if Bibhuti and my Last is Sahu\n"
          ]
        }
      ]
    },
    {
      "cell_type": "code",
      "source": [
        "lst=['Math',10,20, 3,40]"
      ],
      "metadata": {
        "id": "JwWQk32ooHJB"
      },
      "execution_count": 39,
      "outputs": []
    },
    {
      "cell_type": "code",
      "source": [
        "type(lst)"
      ],
      "metadata": {
        "colab": {
          "base_uri": "https://localhost:8080/"
        },
        "id": "OgH6ZPUIoHLt",
        "outputId": "5222becd-c365-414d-eaec-16a902dd38f8"
      },
      "execution_count": 40,
      "outputs": [
        {
          "output_type": "execute_result",
          "data": {
            "text/plain": [
              "list"
            ]
          },
          "metadata": {},
          "execution_count": 40
        }
      ]
    },
    {
      "cell_type": "code",
      "source": [
        "lst.append('Bibhuti')"
      ],
      "metadata": {
        "id": "lHadGU2koHOM"
      },
      "execution_count": 41,
      "outputs": []
    },
    {
      "cell_type": "code",
      "source": [
        "lst"
      ],
      "metadata": {
        "colab": {
          "base_uri": "https://localhost:8080/"
        },
        "id": "zIKy1FStoHQf",
        "outputId": "02d6bd84-c616-46b7-f761-091b6d288858"
      },
      "execution_count": 42,
      "outputs": [
        {
          "output_type": "execute_result",
          "data": {
            "text/plain": [
              "['Math', 10, 20, 3, 40, 'Bibhuti']"
            ]
          },
          "metadata": {},
          "execution_count": 42
        }
      ]
    },
    {
      "cell_type": "code",
      "source": [
        "lst.pop"
      ],
      "metadata": {
        "colab": {
          "base_uri": "https://localhost:8080/"
        },
        "id": "cp3F13BwoHTM",
        "outputId": "f3f7f622-37b9-4429-dfa1-cadbcd962499"
      },
      "execution_count": 43,
      "outputs": [
        {
          "output_type": "execute_result",
          "data": {
            "text/plain": [
              "<function list.pop(index=-1, /)>"
            ]
          },
          "metadata": {},
          "execution_count": 43
        }
      ]
    },
    {
      "cell_type": "code",
      "source": [
        "lst"
      ],
      "metadata": {
        "colab": {
          "base_uri": "https://localhost:8080/"
        },
        "id": "HJxE4TZGoHVm",
        "outputId": "214591b3-073c-4797-ab9a-dd6f754e000e"
      },
      "execution_count": 44,
      "outputs": [
        {
          "output_type": "execute_result",
          "data": {
            "text/plain": [
              "['Math', 10, 20, 3, 40, 'Bibhuti']"
            ]
          },
          "metadata": {},
          "execution_count": 44
        }
      ]
    },
    {
      "cell_type": "code",
      "source": [
        "lst.insert(1,'Bhusan')"
      ],
      "metadata": {
        "id": "h0RR4cw1oHYH"
      },
      "execution_count": 45,
      "outputs": []
    },
    {
      "cell_type": "code",
      "source": [
        "lst"
      ],
      "metadata": {
        "colab": {
          "base_uri": "https://localhost:8080/"
        },
        "id": "zdVsGAODCdIq",
        "outputId": "95604257-8a5e-417f-dddb-14348a7830cb"
      },
      "execution_count": 46,
      "outputs": [
        {
          "output_type": "execute_result",
          "data": {
            "text/plain": [
              "['Math', 'Bhusan', 10, 20, 3, 40, 'Bibhuti']"
            ]
          },
          "metadata": {},
          "execution_count": 46
        }
      ]
    },
    {
      "cell_type": "code",
      "source": [
        "lst.append(['chem','phy'])"
      ],
      "metadata": {
        "id": "Z2wCtxGhCdOv"
      },
      "execution_count": 47,
      "outputs": []
    },
    {
      "cell_type": "code",
      "source": [
        "lst"
      ],
      "metadata": {
        "colab": {
          "base_uri": "https://localhost:8080/"
        },
        "id": "sHKMHEYxCdUd",
        "outputId": "e988090a-3355-4c0b-f903-ea5407865fc4"
      },
      "execution_count": 48,
      "outputs": [
        {
          "output_type": "execute_result",
          "data": {
            "text/plain": [
              "['Math', 'Bhusan', 10, 20, 3, 40, 'Bibhuti', ['chem', 'phy']]"
            ]
          },
          "metadata": {},
          "execution_count": 48
        }
      ]
    },
    {
      "cell_type": "code",
      "source": [
        "#finding prime number\n",
        "num=int(input(\"Enter the number:\"))\n",
        "if num>1:\n",
        "    for i in range(2,num):\n",
        "        if (num%i)==0:\n",
        "            print(num,\"is not a prime number\")\n",
        "            break\n",
        "    else:\n",
        "        print(num,\"is a prime number\")"
      ],
      "metadata": {
        "id": "r-aPkhx1CdaQ",
        "colab": {
          "base_uri": "https://localhost:8080/"
        },
        "outputId": "f8f210a4-14de-4d85-a9e1-c1fd5cce5cc2"
      },
      "execution_count": 49,
      "outputs": [
        {
          "output_type": "stream",
          "name": "stdout",
          "text": [
            "Enter the number:20\n",
            "20 is not a prime number\n"
          ]
        }
      ]
    },
    {
      "cell_type": "code",
      "source": [
        "for num in range(2,20):\n",
        "  for i in range (2,num):\n",
        "    if num%i==0:\n",
        "      break\n",
        "  else:\n",
        "    print(num)"
      ],
      "metadata": {
        "colab": {
          "base_uri": "https://localhost:8080/"
        },
        "id": "Fft9vHBj5YJ_",
        "outputId": "40921a0b-2707-43c4-f2c8-e1e19646c6ae"
      },
      "execution_count": 50,
      "outputs": [
        {
          "output_type": "stream",
          "name": "stdout",
          "text": [
            "2\n",
            "3\n",
            "5\n",
            "7\n",
            "11\n",
            "13\n",
            "17\n",
            "19\n"
          ]
        }
      ]
    },
    {
      "cell_type": "code",
      "source": [
        "#sorting elements in list\n",
        "list=[1,5,78,6,4,8,9,57,6,45,75,89,65,25,47,56]\n",
        "list_sort =[]\n",
        "while list:\n",
        "  minimum=list[0]\n",
        "  for x in list:\n",
        "    if x < minimum:\n",
        "      minimum=x\n",
        "  list_sort.append(minimum)\n",
        "  list.remove(minimum)\n",
        "print(list_sort)\n"
      ],
      "metadata": {
        "id": "PCVpODAMCdch",
        "colab": {
          "base_uri": "https://localhost:8080/"
        },
        "outputId": "26824296-8f44-437b-d32f-419fba0377a8"
      },
      "execution_count": 51,
      "outputs": [
        {
          "output_type": "stream",
          "name": "stdout",
          "text": [
            "[1, 4, 5, 6, 6, 8, 9, 25, 45, 47, 56, 57, 65, 75, 78, 89]\n"
          ]
        }
      ]
    },
    {
      "cell_type": "code",
      "source": [
        "#sorting elements in list\n",
        "list=[1,5,78,6,4,8,9,57,6,45,75,89,65,25,47,56]\n",
        "list_sort =[]\n",
        "while list:\n",
        "  minimum=list[0]\n",
        "  for x in list:\n",
        "    if minimum>x:\n",
        "      minimum=x\n",
        "  list_sort.append(minimum)\n",
        "  list.remove(minimum)\n",
        "print(list_sort)"
      ],
      "metadata": {
        "id": "riMNp_xKCdh2",
        "colab": {
          "base_uri": "https://localhost:8080/"
        },
        "outputId": "3d2993d2-8553-4d9e-f694-6c890d5be8a5"
      },
      "execution_count": 52,
      "outputs": [
        {
          "output_type": "stream",
          "name": "stdout",
          "text": [
            "[1, 4, 5, 6, 6, 8, 9, 25, 45, 47, 56, 57, 65, 75, 78, 89]\n"
          ]
        }
      ]
    },
    {
      "cell_type": "code",
      "source": [
        "#dictionary learning\n",
        "my_dict={\"car1\":\"Audi\",\"car2\":\"Mercedese\",\"car3\":\"bmw\"}\n",
        "my_dict\n",
        "type(my_dict)"
      ],
      "metadata": {
        "id": "qpsaUvpaCdkx",
        "colab": {
          "base_uri": "https://localhost:8080/"
        },
        "outputId": "5ae69534-3eaf-488f-b318-e15b99ae22a9"
      },
      "execution_count": 53,
      "outputs": [
        {
          "output_type": "execute_result",
          "data": {
            "text/plain": [
              "dict"
            ]
          },
          "metadata": {},
          "execution_count": 53
        }
      ]
    },
    {
      "cell_type": "code",
      "source": [
        "my_dict['car1']"
      ],
      "metadata": {
        "id": "XzP4qCTWCdnK",
        "colab": {
          "base_uri": "https://localhost:8080/",
          "height": 36
        },
        "outputId": "464cf15d-5ea8-4e74-9efe-423b132d2658"
      },
      "execution_count": 54,
      "outputs": [
        {
          "output_type": "execute_result",
          "data": {
            "text/plain": [
              "'Audi'"
            ],
            "application/vnd.google.colaboratory.intrinsic+json": {
              "type": "string"
            }
          },
          "metadata": {},
          "execution_count": 54
        }
      ]
    },
    {
      "cell_type": "code",
      "source": [
        "for x in my_dict.items():\n",
        "  print(x)"
      ],
      "metadata": {
        "id": "QJaPCQkaCdp4",
        "colab": {
          "base_uri": "https://localhost:8080/"
        },
        "outputId": "36d5c34e-5515-4182-ba62-d81b092d54c0"
      },
      "execution_count": 55,
      "outputs": [
        {
          "output_type": "stream",
          "name": "stdout",
          "text": [
            "('car1', 'Audi')\n",
            "('car2', 'Mercedese')\n",
            "('car3', 'bmw')\n"
          ]
        }
      ]
    },
    {
      "cell_type": "code",
      "source": [
        "my_dict[\"car4\"]=\"maruti\"\n"
      ],
      "metadata": {
        "id": "DwrRiYM4oHbo"
      },
      "execution_count": 56,
      "outputs": []
    },
    {
      "cell_type": "markdown",
      "source": [
        "#NumPy Tutorial\n"
      ],
      "metadata": {
        "id": "fMCFTb6ZM5Dg"
      }
    },
    {
      "cell_type": "code",
      "source": [
        "import numpy as np\n",
        "list_sort\n",
        "arr=np.array(list_sort)\n",
        "arr\n",
        "type(arr)\n",
        "arr.shape"
      ],
      "metadata": {
        "colab": {
          "base_uri": "https://localhost:8080/"
        },
        "id": "DLA3L5e1LXdf",
        "outputId": "16dd20dc-d201-443d-c8b2-2b92f1f455d3"
      },
      "execution_count": 57,
      "outputs": [
        {
          "output_type": "execute_result",
          "data": {
            "text/plain": [
              "(16,)"
            ]
          },
          "metadata": {},
          "execution_count": 57
        }
      ]
    },
    {
      "cell_type": "code",
      "source": [
        "arr"
      ],
      "metadata": {
        "colab": {
          "base_uri": "https://localhost:8080/"
        },
        "id": "IW7o4pNCLXgL",
        "outputId": "0b5a4c89-3840-4473-8079-93db7431618b"
      },
      "execution_count": 58,
      "outputs": [
        {
          "output_type": "execute_result",
          "data": {
            "text/plain": [
              "array([ 1,  4,  5,  6,  6,  8,  9, 25, 45, 47, 56, 57, 65, 75, 78, 89])"
            ]
          },
          "metadata": {},
          "execution_count": 58
        }
      ]
    },
    {
      "cell_type": "code",
      "source": [
        "arr.reshape"
      ],
      "metadata": {
        "colab": {
          "base_uri": "https://localhost:8080/"
        },
        "id": "UOjCEW5gLXjB",
        "outputId": "09c7bb62-91c5-47c5-d35a-e0ed677280d1"
      },
      "execution_count": 60,
      "outputs": [
        {
          "output_type": "execute_result",
          "data": {
            "text/plain": [
              "<function ndarray.reshape>"
            ]
          },
          "metadata": {},
          "execution_count": 60
        }
      ]
    },
    {
      "cell_type": "code",
      "source": [
        "arr"
      ],
      "metadata": {
        "colab": {
          "base_uri": "https://localhost:8080/"
        },
        "id": "DDkoGxKgLXmH",
        "outputId": "170601a5-92c6-47de-95e2-b8519912becc"
      },
      "execution_count": 61,
      "outputs": [
        {
          "output_type": "execute_result",
          "data": {
            "text/plain": [
              "array([ 1,  4,  5,  6,  6,  8,  9, 25, 45, 47, 56, 57, 65, 75, 78, 89])"
            ]
          },
          "metadata": {},
          "execution_count": 61
        }
      ]
    },
    {
      "cell_type": "code",
      "source": [
        "arr1= np.array([1,2,3,4,5,6,7,8,9])"
      ],
      "metadata": {
        "id": "uy1-ml3-LXoz"
      },
      "execution_count": 63,
      "outputs": []
    },
    {
      "cell_type": "code",
      "source": [
        "arr1"
      ],
      "metadata": {
        "colab": {
          "base_uri": "https://localhost:8080/"
        },
        "id": "U9x3Zs7dLXsL",
        "outputId": "19a4a5ea-06ef-43a0-a4fd-9213c97ba48f"
      },
      "execution_count": 64,
      "outputs": [
        {
          "output_type": "execute_result",
          "data": {
            "text/plain": [
              "array([1, 2, 3, 4, 5, 6, 7, 8, 9])"
            ]
          },
          "metadata": {},
          "execution_count": 64
        }
      ]
    },
    {
      "cell_type": "code",
      "source": [
        ""
      ],
      "metadata": {
        "id": "CrJM1FxaLXvg"
      },
      "execution_count": null,
      "outputs": []
    },
    {
      "cell_type": "code",
      "source": [],
      "metadata": {
        "id": "hn_E9rcmLXx5"
      },
      "execution_count": null,
      "outputs": []
    },
    {
      "cell_type": "code",
      "source": [],
      "metadata": {
        "id": "6f16RCZXLX0v"
      },
      "execution_count": null,
      "outputs": []
    },
    {
      "cell_type": "code",
      "source": [],
      "metadata": {
        "id": "a-nqzXcwLX3e"
      },
      "execution_count": null,
      "outputs": []
    },
    {
      "cell_type": "code",
      "source": [],
      "metadata": {
        "id": "ig_NGWUjLX6m"
      },
      "execution_count": null,
      "outputs": []
    },
    {
      "cell_type": "code",
      "source": [],
      "metadata": {
        "id": "lwhxjuA3LYMy"
      },
      "execution_count": null,
      "outputs": []
    },
    {
      "cell_type": "code",
      "source": [],
      "metadata": {
        "id": "0vGvvg-NLYPu"
      },
      "execution_count": null,
      "outputs": []
    },
    {
      "cell_type": "code",
      "source": [],
      "metadata": {
        "id": "WhXHvFrMLYSU"
      },
      "execution_count": null,
      "outputs": []
    },
    {
      "cell_type": "code",
      "source": [],
      "metadata": {
        "id": "Yi4pVqOmLYVK"
      },
      "execution_count": null,
      "outputs": []
    },
    {
      "cell_type": "code",
      "source": [],
      "metadata": {
        "id": "IAsZaZB9LYX-"
      },
      "execution_count": null,
      "outputs": []
    },
    {
      "cell_type": "code",
      "source": [],
      "metadata": {
        "id": "A5A97PTbLYbc"
      },
      "execution_count": null,
      "outputs": []
    }
  ]
}