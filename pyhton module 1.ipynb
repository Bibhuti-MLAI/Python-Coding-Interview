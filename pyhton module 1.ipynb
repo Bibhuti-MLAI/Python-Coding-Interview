{
  "nbformat": 4,
  "nbformat_minor": 0,
  "metadata": {
    "colab": {
      "name": "Untitled11.ipynb",
      "provenance": [],
      "authorship_tag": "ABX9TyM9rf8Vipg/a1NHH5a3o68N",
      "include_colab_link": true
    },
    "kernelspec": {
      "name": "python3",
      "display_name": "Python 3"
    },
    "language_info": {
      "name": "python"
    }
  },
  "cells": [
    {
      "cell_type": "markdown",
      "metadata": {
        "id": "view-in-github",
        "colab_type": "text"
      },
      "source": [
        "<a href=\"https://colab.research.google.com/github/Bibhuti-MLAI/Python-Coding-Interview/blob/main/pyhton%20module%201.ipynb\" target=\"_parent\"><img src=\"https://colab.research.google.com/assets/colab-badge.svg\" alt=\"Open In Colab\"/></a>"
      ]
    },
    {
      "cell_type": "markdown",
      "source": [
        "# Define a function which can generate a list where the values are square of numbers between 1 and 20 (both included). Then the function needs to print the first 5 elements in the list.\n",
        "Hint :\n",
        "Use ** operator to get power of a number.\n",
        "Use range() for loops.\n",
        "Use list.append() to add values into a list.\n",
        "Use [n1:n2] to slice a list\n"
      ],
      "metadata": {
        "id": "3DmJQttCNpSm"
      }
    },
    {
      "cell_type": "code",
      "execution_count": null,
      "metadata": {
        "id": "kf52NH-CNZ0W"
      },
      "outputs": [],
      "source": [
        "def square_of_num():\n",
        "  "
      ]
    }
  ]
}